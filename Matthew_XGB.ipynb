{
 "cells": [
  {
   "cell_type": "code",
   "execution_count": 1,
   "metadata": {
    "collapsed": false
   },
   "outputs": [],
   "source": [
    "# numpy and pandas for data manipulation\n",
    "import numpy as np\n",
    "import pandas as pd\n",
    "import s3fs\n",
    "\n",
    "# File system manangement\n",
    "import os\n",
    "\n",
    "# Suppress warnings \n",
    "import warnings\n",
    "warnings.filterwarnings('ignore')\n",
    "\n",
    "# matplotlib and seaborn for plotting\n",
    "import seaborn as sns \n",
    "%matplotlib inline\n",
    "import matplotlib.pyplot as plt\n",
    "import xgboost as xgb\n",
    "\n",
    "from sklearn.model_selection import train_test_split, GridSearchCV\n",
    "from sklearn.metrics import accuracy_score, confusion_matrix\n",
    "from sklearn.pipeline import Pipeline\n",
    "from sklearn.preprocessing import StandardScaler\n",
    "from sklearn.linear_model import LogisticRegression\n",
    "from sklearn.preprocessing import LabelEncoder\n",
    "from sklearn.ensemble import RandomForestClassifier\n",
    "import statsmodels.api as sm\n",
    "import statsmodels.formula.api as smf"
   ]
  },
  {
   "cell_type": "code",
   "execution_count": 2,
   "metadata": {
    "collapsed": true
   },
   "outputs": [],
   "source": [
    "def agg_numeric(df, group_var, df_name):\n",
    "    # Remove id variables not used to group\n",
    "    for col in df:\n",
    "        if col != group_var and 'SK_ID' in col:\n",
    "            df = df.drop(columns = col)\n",
    "            \n",
    "    group_ids = df[group_var]\n",
    "    numeric_df = df.select_dtypes('number')\n",
    "    numeric_df[group_var] = group_ids\n",
    "\n",
    "    # Group by key and calculate the aggregation stastics\n",
    "    agg = numeric_df.groupby(group_var).agg(['count', 'mean', 'max', 'min', 'sum']).reset_index()\n",
    "\n",
    "    # Create new column names\n",
    "    columns = [group_var]\n",
    "\n",
    "    # Iterate through the variables names\n",
    "    for var in agg.columns.levels[0]:\n",
    "        if var != group_var:\n",
    "            # Loop over aggregation names\n",
    "            for stat in agg.columns.levels[1][:-1]:\n",
    "                # Creates new column name for the variable\n",
    "                columns.append('%s_%s_%s' % (df_name, var, stat))\n",
    "\n",
    "    agg.columns = columns\n",
    "    return agg"
   ]
  },
  {
   "cell_type": "code",
   "execution_count": 3,
   "metadata": {
    "collapsed": true
   },
   "outputs": [],
   "source": [
    "def count_categorical(df, group_var, df_name):\n",
    "    \n",
    "    categorical = pd.get_dummies(df.select_dtypes('object'))\n",
    "\n",
    "    # Make sure to put the identifying id on the column\n",
    "    categorical[group_var] = df[group_var]\n",
    "\n",
    "    # Groupby the group var and calculate the sum and mean\n",
    "    categorical = categorical.groupby(group_var).agg(['sum', 'mean'])\n",
    "    \n",
    "    column_names = []\n",
    "    \n",
    "    for var in categorical.columns.levels[0]:\n",
    "        for stat in ['count', 'count_norm']:\n",
    "            # Make a new column name\n",
    "            column_names.append('%s_%s_%s' % (df_name, var, stat))\n",
    "    \n",
    "    categorical.columns = column_names\n",
    "    \n",
    "    return categorical\n",
    "\n"
   ]
  },
  {
   "cell_type": "code",
   "execution_count": 4,
   "metadata": {
    "collapsed": true
   },
   "outputs": [],
   "source": [
    "def missing_values_table(df):\n",
    "        # Total missing values\n",
    "        mis_val = df.isnull().sum()\n",
    "        \n",
    "        # Percentage of missing values\n",
    "        mis_val_percent = 100 * df.isnull().sum() / len(df)\n",
    "        \n",
    "        # Make a table with the results\n",
    "        mis_val_table = pd.concat([mis_val, mis_val_percent], axis=1)\n",
    "        \n",
    "        # Rename the columns\n",
    "        mis_val_table_ren_columns = mis_val_table.rename(\n",
    "        columns = {0 : 'Missing Values', 1 : '% of Total Values'})\n",
    "        \n",
    "        # Sort the table by percentage of missing descending\n",
    "        mis_val_table_ren_columns = mis_val_table_ren_columns[\n",
    "            mis_val_table_ren_columns.iloc[:,1] != 0].sort_values(\n",
    "        '% of Total Values', ascending=False).round(1)\n",
    "                \n",
    "        # Return the dataframe with missing information\n",
    "        return mis_val_table_ren_columns"
   ]
  },
  {
   "cell_type": "code",
   "execution_count": 5,
   "metadata": {
    "collapsed": false
   },
   "outputs": [],
   "source": [
    "fs = s3fs.S3FileSystem(anon=False)\n",
    "\n",
    "with fs.open('home-credit-mb/application_train.csv') as f:\n",
    "    train = pd.read_csv(f)\n",
    "    \n",
    "with fs.open('home-credit-mb/bureau.csv') as f:\n",
    "    bureau = pd.read_csv(f)\n",
    "    \n",
    "with fs.open('home-credit-mb/bureau_balance.csv') as f:\n",
    "    bureau_balance = pd.read_csv(f)\n",
    "    \n",
    "with fs.open('home-credit-mb/POS_CASH_balance.csv') as f:\n",
    "    POS_CASH_balance = pd.read_csv(f)"
   ]
  },
  {
   "cell_type": "code",
   "execution_count": 6,
   "metadata": {
    "collapsed": false
   },
   "outputs": [],
   "source": [
    "bureau_counts = count_categorical(bureau, group_var = 'SK_ID_CURR', df_name = 'bureau')"
   ]
  },
  {
   "cell_type": "code",
   "execution_count": 7,
   "metadata": {
    "collapsed": false
   },
   "outputs": [],
   "source": [
    "bureau_agg = agg_numeric(bureau.drop(columns = ['SK_ID_BUREAU']), group_var = 'SK_ID_CURR', df_name = 'bureau')"
   ]
  },
  {
   "cell_type": "code",
   "execution_count": 8,
   "metadata": {
    "collapsed": false
   },
   "outputs": [],
   "source": [
    "bureau_balance_counts = count_categorical(bureau_balance, group_var = 'SK_ID_BUREAU', df_name = 'bureau_balance')"
   ]
  },
  {
   "cell_type": "code",
   "execution_count": 9,
   "metadata": {
    "collapsed": false
   },
   "outputs": [],
   "source": [
    "bureau_balance_agg = agg_numeric(bureau_balance, group_var = 'SK_ID_BUREAU', df_name = 'bureau_balance')"
   ]
  },
  {
   "cell_type": "code",
   "execution_count": 10,
   "metadata": {
    "collapsed": true
   },
   "outputs": [],
   "source": [
    "# Group by the loan\n",
    "bureau_by_loan = bureau_balance_agg.merge(bureau_balance_counts, right_index = True, left_on = 'SK_ID_BUREAU', how = 'outer')\n",
    "\n",
    "# Include SK_ID_CURR\n",
    "bureau_by_loan = bureau[['SK_ID_BUREAU', 'SK_ID_CURR']].merge(bureau_by_loan, on = 'SK_ID_BUREAU', how = 'left')\n",
    "\n",
    "# Aggregate balance for every client\n",
    "bureau_balance_by_client = agg_numeric(bureau_by_loan.drop(columns = ['SK_ID_BUREAU']), group_var = 'SK_ID_CURR', df_name = 'client')"
   ]
  },
  {
   "cell_type": "code",
   "execution_count": 11,
   "metadata": {
    "collapsed": false
   },
   "outputs": [],
   "source": [
    "# Aggregate stats for each client in POS_CASH\n",
    "valid_IDs=train['SK_ID_CURR'].copy()\n",
    "filteredPos = POS_CASH_balance.loc[POS_CASH_balance['SK_ID_CURR'].isin(valid_IDs)].sort_values(by=['SK_ID_CURR'])\n",
    "POS_agg = agg_numeric(filteredPos, group_var = 'SK_ID_CURR', df_name = 'POS_CASH')"
   ]
  },
  {
   "cell_type": "code",
   "execution_count": 12,
   "metadata": {
    "collapsed": true
   },
   "outputs": [],
   "source": [
    "# Merge with bureau counts\n",
    "train = train.merge(bureau_counts, on = 'SK_ID_CURR', how = 'left')\n",
    "\n",
    "# Merge with bureau\n",
    "train = train.merge(bureau_agg, on = 'SK_ID_CURR', how = 'left')\n",
    "\n",
    "# Merge with the monthly information grouped by client\n",
    "train = train.merge(bureau_balance_by_client, on = 'SK_ID_CURR', how = 'left')\n",
    "\n",
    "# Merge with POS_cash\n",
    "train = train.merge(POS_agg, on='SK_ID_CURR', how = 'left')"
   ]
  },
  {
   "cell_type": "code",
   "execution_count": 13,
   "metadata": {
    "collapsed": false
   },
   "outputs": [],
   "source": [
    "missing_train = missing_values_table(train)\n",
    "missing_train_vars = list(missing_train.index[missing_train['% of Total Values'] > 90])"
   ]
  },
  {
   "cell_type": "code",
   "execution_count": 14,
   "metadata": {
    "collapsed": true
   },
   "outputs": [],
   "source": [
    "missing_columns = list(set(missing_train_vars))\n",
    "train = train.drop(columns = missing_columns)"
   ]
  },
  {
   "cell_type": "code",
   "execution_count": 15,
   "metadata": {
    "collapsed": true
   },
   "outputs": [],
   "source": [
    "#Takes a while to run\n",
    "corrs = train.corr()"
   ]
  },
  {
   "cell_type": "code",
   "execution_count": 16,
   "metadata": {
    "collapsed": false
   },
   "outputs": [],
   "source": [
    "corrs = corrs.sort_values('TARGET', ascending = False)"
   ]
  },
  {
   "cell_type": "code",
   "execution_count": 17,
   "metadata": {
    "collapsed": true
   },
   "outputs": [],
   "source": [
    "# 80% threashold\n",
    "threshold = 0.8\n",
    "\n",
    "above_threshold_vars = {}\n",
    "\n",
    "# Record the variables that are above the threshold\n",
    "for col in corrs:\n",
    "    above_threshold_vars[col] = list(corrs.index[corrs[col] > threshold])"
   ]
  },
  {
   "cell_type": "code",
   "execution_count": 18,
   "metadata": {
    "collapsed": false
   },
   "outputs": [],
   "source": [
    "# Remove any columns with over 80% threshold of correlation with another column\n",
    "# but only remove one of the pair.\n",
    "\n",
    "cols_to_remove = []\n",
    "cols_seen = []\n",
    "cols_to_remove_pair = []\n",
    "\n",
    "# Iterate through columns and correlated columns\n",
    "for key, value in above_threshold_vars.items():\n",
    "    # Keep track of columns already seen, and make sure it is not pair of the pair.\n",
    "    cols_seen.append(key)\n",
    "    for x in value:\n",
    "        if x == key:\n",
    "            next\n",
    "        else:\n",
    "            if x not in cols_seen:\n",
    "                cols_to_remove.append(x)\n",
    "                cols_to_remove_pair.append(key)\n",
    "            \n",
    "cols_to_remove = list(set(cols_to_remove))\n",
    "\n",
    "train_corrs_removed = train.drop(columns = cols_to_remove)\n"
   ]
  },
  {
   "cell_type": "code",
   "execution_count": 19,
   "metadata": {
    "collapsed": true
   },
   "outputs": [],
   "source": [
    "#Import classifier and plotting tools.\n",
    "\n",
    "from sklearn.model_selection import KFold\n",
    "from sklearn.metrics import roc_auc_score\n",
    "from sklearn.preprocessing import LabelEncoder\n",
    "import xgboost as xgb\n",
    "import gc\n",
    "\n",
    "import matplotlib.pyplot as plt"
   ]
  },
  {
   "cell_type": "code",
   "execution_count": 20,
   "metadata": {
    "collapsed": true
   },
   "outputs": [],
   "source": [
    "train_xgb = train.copy()\n",
    "\n",
    "# Training labels\n",
    "labels = train_xgb['TARGET']\n",
    "\n",
    "# Drops IDs and Targets\n",
    "train_xgb = train_xgb.drop(columns = ['SK_ID_CURR', 'TARGET'])"
   ]
  },
  {
   "cell_type": "code",
   "execution_count": 21,
   "metadata": {
    "collapsed": true
   },
   "outputs": [],
   "source": [
    "# One Hot Encoding\n",
    "train_xgb = pd.get_dummies(train_xgb)"
   ]
  },
  {
   "cell_type": "code",
   "execution_count": 22,
   "metadata": {
    "collapsed": true
   },
   "outputs": [],
   "source": [
    "# Convert to numpy array for use in the classifier.\n",
    "train_xgb = np.array(train_xgb)"
   ]
  },
  {
   "cell_type": "code",
   "execution_count": 23,
   "metadata": {
    "collapsed": true
   },
   "outputs": [],
   "source": [
    "# Empty array for out of fold validation predictions\n",
    "train_preds = np.zeros(train_xgb.shape[0])"
   ]
  },
  {
   "cell_type": "code",
   "execution_count": 24,
   "metadata": {
    "collapsed": false
   },
   "outputs": [
    {
     "name": "stdout",
     "output_type": "stream",
     "text": [
      "[0]\tvalidation_0-auc:0.68034\tvalidation_1-auc:0.72706\n",
      "Multiple eval metrics have been passed: 'validation_1-auc' will be used for early stopping.\n",
      "\n",
      "Will train until validation_1-auc hasn't improved in 100 rounds.\n",
      "[1]\tvalidation_0-auc:0.69912\tvalidation_1-auc:0.76371\n",
      "[2]\tvalidation_0-auc:0.70836\tvalidation_1-auc:0.79684\n",
      "[3]\tvalidation_0-auc:0.71366\tvalidation_1-auc:0.81503\n",
      "[4]\tvalidation_0-auc:0.71568\tvalidation_1-auc:0.82616\n",
      "[5]\tvalidation_0-auc:0.72461\tvalidation_1-auc:0.84803\n",
      "[6]\tvalidation_0-auc:0.72638\tvalidation_1-auc:0.85610\n",
      "[7]\tvalidation_0-auc:0.73040\tvalidation_1-auc:0.86873\n",
      "[8]\tvalidation_0-auc:0.72970\tvalidation_1-auc:0.87835\n",
      "[9]\tvalidation_0-auc:0.73339\tvalidation_1-auc:0.88602\n",
      "[10]\tvalidation_0-auc:0.73422\tvalidation_1-auc:0.89178\n",
      "[11]\tvalidation_0-auc:0.73534\tvalidation_1-auc:0.89981\n",
      "[12]\tvalidation_0-auc:0.73769\tvalidation_1-auc:0.90714\n",
      "[13]\tvalidation_0-auc:0.73930\tvalidation_1-auc:0.91373\n",
      "[14]\tvalidation_0-auc:0.73966\tvalidation_1-auc:0.92023\n",
      "[15]\tvalidation_0-auc:0.74105\tvalidation_1-auc:0.92531\n",
      "[16]\tvalidation_0-auc:0.74139\tvalidation_1-auc:0.92869\n",
      "[17]\tvalidation_0-auc:0.74158\tvalidation_1-auc:0.93339\n",
      "[18]\tvalidation_0-auc:0.74316\tvalidation_1-auc:0.93844\n",
      "[19]\tvalidation_0-auc:0.74427\tvalidation_1-auc:0.94470\n",
      "[20]\tvalidation_0-auc:0.74488\tvalidation_1-auc:0.95030\n",
      "[21]\tvalidation_0-auc:0.74556\tvalidation_1-auc:0.95458\n",
      "[22]\tvalidation_0-auc:0.74623\tvalidation_1-auc:0.95920\n",
      "[23]\tvalidation_0-auc:0.74670\tvalidation_1-auc:0.96203\n",
      "[24]\tvalidation_0-auc:0.74707\tvalidation_1-auc:0.96436\n",
      "[25]\tvalidation_0-auc:0.74784\tvalidation_1-auc:0.96684\n",
      "[26]\tvalidation_0-auc:0.74824\tvalidation_1-auc:0.96912\n",
      "[27]\tvalidation_0-auc:0.74859\tvalidation_1-auc:0.97155\n",
      "[28]\tvalidation_0-auc:0.74932\tvalidation_1-auc:0.97372\n",
      "[29]\tvalidation_0-auc:0.74950\tvalidation_1-auc:0.97576\n",
      "[30]\tvalidation_0-auc:0.74949\tvalidation_1-auc:0.97750\n",
      "[31]\tvalidation_0-auc:0.75011\tvalidation_1-auc:0.97886\n",
      "[32]\tvalidation_0-auc:0.75057\tvalidation_1-auc:0.98032\n",
      "[33]\tvalidation_0-auc:0.75068\tvalidation_1-auc:0.98101\n",
      "[34]\tvalidation_0-auc:0.75106\tvalidation_1-auc:0.98208\n",
      "[35]\tvalidation_0-auc:0.75161\tvalidation_1-auc:0.98310\n",
      "[36]\tvalidation_0-auc:0.75220\tvalidation_1-auc:0.98409\n",
      "[37]\tvalidation_0-auc:0.75220\tvalidation_1-auc:0.98534\n",
      "[38]\tvalidation_0-auc:0.75274\tvalidation_1-auc:0.98614\n",
      "[39]\tvalidation_0-auc:0.75294\tvalidation_1-auc:0.98700\n",
      "[40]\tvalidation_0-auc:0.75355\tvalidation_1-auc:0.98771\n",
      "[41]\tvalidation_0-auc:0.75379\tvalidation_1-auc:0.98834\n",
      "[42]\tvalidation_0-auc:0.75364\tvalidation_1-auc:0.98900\n",
      "[43]\tvalidation_0-auc:0.75398\tvalidation_1-auc:0.98930\n",
      "[44]\tvalidation_0-auc:0.75375\tvalidation_1-auc:0.98982\n",
      "[45]\tvalidation_0-auc:0.75360\tvalidation_1-auc:0.99047\n",
      "[46]\tvalidation_0-auc:0.75376\tvalidation_1-auc:0.99067\n",
      "[47]\tvalidation_0-auc:0.75359\tvalidation_1-auc:0.99093\n",
      "[48]\tvalidation_0-auc:0.75379\tvalidation_1-auc:0.99151\n",
      "[49]\tvalidation_0-auc:0.75358\tvalidation_1-auc:0.99183\n",
      "[0]\tvalidation_0-auc:0.68030\tvalidation_1-auc:0.72935\n",
      "Multiple eval metrics have been passed: 'validation_1-auc' will be used for early stopping.\n",
      "\n",
      "Will train until validation_1-auc hasn't improved in 100 rounds.\n",
      "[1]\tvalidation_0-auc:0.69838\tvalidation_1-auc:0.76506\n",
      "[2]\tvalidation_0-auc:0.70672\tvalidation_1-auc:0.79599\n",
      "[3]\tvalidation_0-auc:0.71034\tvalidation_1-auc:0.81450\n",
      "[4]\tvalidation_0-auc:0.71336\tvalidation_1-auc:0.82776\n",
      "[5]\tvalidation_0-auc:0.72215\tvalidation_1-auc:0.84979\n",
      "[6]\tvalidation_0-auc:0.72321\tvalidation_1-auc:0.85741\n",
      "[7]\tvalidation_0-auc:0.72828\tvalidation_1-auc:0.86790\n",
      "[8]\tvalidation_0-auc:0.72783\tvalidation_1-auc:0.87753\n",
      "[9]\tvalidation_0-auc:0.73035\tvalidation_1-auc:0.88470\n",
      "[10]\tvalidation_0-auc:0.73125\tvalidation_1-auc:0.89198\n",
      "[11]\tvalidation_0-auc:0.73228\tvalidation_1-auc:0.90019\n",
      "[12]\tvalidation_0-auc:0.73487\tvalidation_1-auc:0.90807\n",
      "[13]\tvalidation_0-auc:0.73623\tvalidation_1-auc:0.91446\n",
      "[14]\tvalidation_0-auc:0.73700\tvalidation_1-auc:0.92055\n",
      "[15]\tvalidation_0-auc:0.73748\tvalidation_1-auc:0.92588\n",
      "[16]\tvalidation_0-auc:0.73776\tvalidation_1-auc:0.92975\n",
      "[17]\tvalidation_0-auc:0.73882\tvalidation_1-auc:0.93397\n",
      "[18]\tvalidation_0-auc:0.73964\tvalidation_1-auc:0.93821\n",
      "[19]\tvalidation_0-auc:0.74056\tvalidation_1-auc:0.94466\n",
      "[20]\tvalidation_0-auc:0.74189\tvalidation_1-auc:0.95022\n",
      "[21]\tvalidation_0-auc:0.74164\tvalidation_1-auc:0.95509\n",
      "[22]\tvalidation_0-auc:0.74290\tvalidation_1-auc:0.95907\n",
      "[23]\tvalidation_0-auc:0.74298\tvalidation_1-auc:0.96179\n",
      "[24]\tvalidation_0-auc:0.74360\tvalidation_1-auc:0.96502\n",
      "[25]\tvalidation_0-auc:0.74415\tvalidation_1-auc:0.96779\n",
      "[26]\tvalidation_0-auc:0.74414\tvalidation_1-auc:0.96980\n",
      "[27]\tvalidation_0-auc:0.74455\tvalidation_1-auc:0.97212\n",
      "[28]\tvalidation_0-auc:0.74452\tvalidation_1-auc:0.97455\n",
      "[29]\tvalidation_0-auc:0.74468\tvalidation_1-auc:0.97655\n",
      "[30]\tvalidation_0-auc:0.74522\tvalidation_1-auc:0.97864\n",
      "[31]\tvalidation_0-auc:0.74524\tvalidation_1-auc:0.98007\n",
      "[32]\tvalidation_0-auc:0.74518\tvalidation_1-auc:0.98131\n",
      "[33]\tvalidation_0-auc:0.74581\tvalidation_1-auc:0.98244\n",
      "[34]\tvalidation_0-auc:0.74609\tvalidation_1-auc:0.98320\n",
      "[35]\tvalidation_0-auc:0.74627\tvalidation_1-auc:0.98447\n",
      "[36]\tvalidation_0-auc:0.74648\tvalidation_1-auc:0.98528\n",
      "[37]\tvalidation_0-auc:0.74651\tvalidation_1-auc:0.98629\n",
      "[38]\tvalidation_0-auc:0.74627\tvalidation_1-auc:0.98718\n",
      "[39]\tvalidation_0-auc:0.74647\tvalidation_1-auc:0.98809\n",
      "[40]\tvalidation_0-auc:0.74681\tvalidation_1-auc:0.98864\n",
      "[41]\tvalidation_0-auc:0.74708\tvalidation_1-auc:0.98916\n",
      "[42]\tvalidation_0-auc:0.74697\tvalidation_1-auc:0.99005\n",
      "[43]\tvalidation_0-auc:0.74689\tvalidation_1-auc:0.99058\n",
      "[44]\tvalidation_0-auc:0.74720\tvalidation_1-auc:0.99076\n",
      "[45]\tvalidation_0-auc:0.74733\tvalidation_1-auc:0.99121\n",
      "[46]\tvalidation_0-auc:0.74735\tvalidation_1-auc:0.99169\n",
      "[47]\tvalidation_0-auc:0.74743\tvalidation_1-auc:0.99196\n",
      "[48]\tvalidation_0-auc:0.74759\tvalidation_1-auc:0.99218\n",
      "[49]\tvalidation_0-auc:0.74764\tvalidation_1-auc:0.99243\n",
      "[0]\tvalidation_0-auc:0.68361\tvalidation_1-auc:0.72493\n",
      "Multiple eval metrics have been passed: 'validation_1-auc' will be used for early stopping.\n",
      "\n",
      "Will train until validation_1-auc hasn't improved in 100 rounds.\n",
      "[1]\tvalidation_0-auc:0.70269\tvalidation_1-auc:0.76237\n",
      "[2]\tvalidation_0-auc:0.70867\tvalidation_1-auc:0.79460\n",
      "[3]\tvalidation_0-auc:0.71400\tvalidation_1-auc:0.81261\n",
      "[4]\tvalidation_0-auc:0.71928\tvalidation_1-auc:0.82291\n",
      "[5]\tvalidation_0-auc:0.72784\tvalidation_1-auc:0.84578\n",
      "[6]\tvalidation_0-auc:0.73016\tvalidation_1-auc:0.85316\n",
      "[7]\tvalidation_0-auc:0.73550\tvalidation_1-auc:0.86299\n",
      "[8]\tvalidation_0-auc:0.73441\tvalidation_1-auc:0.87549\n",
      "[9]\tvalidation_0-auc:0.73651\tvalidation_1-auc:0.88404\n",
      "[10]\tvalidation_0-auc:0.73784\tvalidation_1-auc:0.89224\n",
      "[11]\tvalidation_0-auc:0.73837\tvalidation_1-auc:0.89936\n",
      "[12]\tvalidation_0-auc:0.74148\tvalidation_1-auc:0.90723\n",
      "[13]\tvalidation_0-auc:0.74264\tvalidation_1-auc:0.91181\n",
      "[14]\tvalidation_0-auc:0.74430\tvalidation_1-auc:0.91729\n",
      "[15]\tvalidation_0-auc:0.74567\tvalidation_1-auc:0.92333\n",
      "[16]\tvalidation_0-auc:0.74610\tvalidation_1-auc:0.92826\n",
      "[17]\tvalidation_0-auc:0.74652\tvalidation_1-auc:0.93297\n",
      "[18]\tvalidation_0-auc:0.74725\tvalidation_1-auc:0.93786\n",
      "[19]\tvalidation_0-auc:0.74804\tvalidation_1-auc:0.94331\n",
      "[20]\tvalidation_0-auc:0.74847\tvalidation_1-auc:0.94903\n",
      "[21]\tvalidation_0-auc:0.74858\tvalidation_1-auc:0.95316\n",
      "[22]\tvalidation_0-auc:0.74869\tvalidation_1-auc:0.95753\n",
      "[23]\tvalidation_0-auc:0.74865\tvalidation_1-auc:0.96083\n",
      "[24]\tvalidation_0-auc:0.74875\tvalidation_1-auc:0.96356\n",
      "[25]\tvalidation_0-auc:0.74913\tvalidation_1-auc:0.96640\n",
      "[26]\tvalidation_0-auc:0.75011\tvalidation_1-auc:0.96844\n",
      "[27]\tvalidation_0-auc:0.75090\tvalidation_1-auc:0.97064\n",
      "[28]\tvalidation_0-auc:0.75136\tvalidation_1-auc:0.97306\n",
      "[29]\tvalidation_0-auc:0.75167\tvalidation_1-auc:0.97467\n",
      "[30]\tvalidation_0-auc:0.75235\tvalidation_1-auc:0.97630\n",
      "[31]\tvalidation_0-auc:0.75250\tvalidation_1-auc:0.97813\n",
      "[32]\tvalidation_0-auc:0.75242\tvalidation_1-auc:0.97940\n",
      "[33]\tvalidation_0-auc:0.75279\tvalidation_1-auc:0.98088\n",
      "[34]\tvalidation_0-auc:0.75317\tvalidation_1-auc:0.98164\n",
      "[35]\tvalidation_0-auc:0.75363\tvalidation_1-auc:0.98252\n",
      "[36]\tvalidation_0-auc:0.75400\tvalidation_1-auc:0.98355\n",
      "[37]\tvalidation_0-auc:0.75416\tvalidation_1-auc:0.98496\n",
      "[38]\tvalidation_0-auc:0.75400\tvalidation_1-auc:0.98613\n",
      "[39]\tvalidation_0-auc:0.75399\tvalidation_1-auc:0.98664\n",
      "[40]\tvalidation_0-auc:0.75414\tvalidation_1-auc:0.98725\n",
      "[41]\tvalidation_0-auc:0.75416\tvalidation_1-auc:0.98832\n",
      "[42]\tvalidation_0-auc:0.75434\tvalidation_1-auc:0.98864\n",
      "[43]\tvalidation_0-auc:0.75469\tvalidation_1-auc:0.98900\n",
      "[44]\tvalidation_0-auc:0.75480\tvalidation_1-auc:0.98933\n",
      "[45]\tvalidation_0-auc:0.75471\tvalidation_1-auc:0.98978\n",
      "[46]\tvalidation_0-auc:0.75433\tvalidation_1-auc:0.99062\n",
      "[47]\tvalidation_0-auc:0.75447\tvalidation_1-auc:0.99089\n",
      "[48]\tvalidation_0-auc:0.75459\tvalidation_1-auc:0.99172\n",
      "[49]\tvalidation_0-auc:0.75458\tvalidation_1-auc:0.99223\n",
      "CPU times: user 18min 33s, sys: 7.43 s, total: 18min 41s\n",
      "Wall time: 18min 39s\n"
     ]
    }
   ],
   "source": [
    "%%time\n",
    "# Do 3 folds.\n",
    "n_folds = 3\n",
    "# No shuffling to ensure we hit all data points.\n",
    "k_fold = KFold(n_splits = n_folds, shuffle = False, random_state = 50)\n",
    "\n",
    "# Iterate through each fold\n",
    "for train_indices, valid_indices in k_fold.split(train_xgb):\n",
    "    \n",
    "    # Training data for the fold\n",
    "    train_features, train_labels = train_xgb[train_indices], labels[train_indices]\n",
    "    # Validation data for the fold\n",
    "    valid_features, valid_labels = train_xgb[valid_indices], labels[valid_indices]\n",
    "    \n",
    "    \n",
    "    # Create the model\n",
    "    model = xgb.XGBClassifier(objective ='binary:logistic', colsample_bytree = 0.5, learning_rate = 0.15,\n",
    "            max_depth = 12, alpha = 10, n_estimators = 50)\n",
    "    \n",
    "    # Train the model, don't stop until we don't see improvement for at least 100 rounds.\n",
    "    model.fit(train_features, train_labels, eval_metric = 'auc',\n",
    "              eval_set = [(valid_features, valid_labels), (train_features, train_labels)],\n",
    "              early_stopping_rounds = 100, verbose = True)\n",
    "    \n",
    "    # Record the out of fold predictions, this is what we will use for ROC/Accuracy \n",
    "    train_preds[valid_indices] = model.predict_proba(valid_features)[:, 1]\n",
    "    \n",
    "    # Clean up memory\n",
    "    gc.enable()\n",
    "    del model, train_features, valid_features\n",
    "    gc.collect()"
   ]
  },
  {
   "cell_type": "code",
   "execution_count": 28,
   "metadata": {
    "collapsed": false
   },
   "outputs": [
    {
     "name": "stdout",
     "output_type": "stream",
     "text": [
      "ROC AUC Score on the train dataset 0.7518952127476262\n"
     ]
    }
   ],
   "source": [
    "#ROC AUC Curve \n",
    "from sklearn.metrics import roc_auc_score, roc_curve, auc \n",
    "\n",
    "#Calculate AUC:\n",
    "print ('ROC AUC Score on the train dataset', roc_auc_score(labels, train_preds))"
   ]
  },
  {
   "cell_type": "code",
   "execution_count": 29,
   "metadata": {
    "collapsed": false
   },
   "outputs": [
    {
     "data": {
      "text/plain": [
       "<matplotlib.text.Text at 0x7f091fec2dd8>"
      ]
     },
     "execution_count": 29,
     "metadata": {},
     "output_type": "execute_result"
    },
    {
     "data": {
      "image/png": "[encoded data removed]",
      "text/plain": [
       "<matplotlib.figure.Figure at 0x7f0920e254a8>"
      ]
     },
     "metadata": {},
     "output_type": "display_data"
    }
   ],
   "source": [
    "fpr,tpr, thresholds= roc_curve(labels, train_preds) \n",
    "roc_auc=auc(fpr,tpr)\n",
    "\n",
    "\n",
    "#Visual :https://www.kaggle.com/jomaxx/area-under-the-roc-curve-explained \n",
    "#fig, axs = plt.subplots(1, 2, figsize = (16,8))\n",
    "\n",
    "#Plot ROC \n",
    "plt.plot(fpr, tpr, lw=1, label='(AUC = %0.2f)' % (roc_auc))\n",
    "\n",
    "plt.title('XGBoost Classifier Receiver Operating Characteristic ')\n",
    "plt.legend(loc=\"lower right\")\n",
    "plt.xlim([-0.05, 1.05])\n",
    "plt.ylim([-0.05, 1.05])\n",
    "plt.xlabel('False Positive Rate')\n",
    "plt.ylabel('True Positive Rate')"
   ]
  },
  {
   "cell_type": "code",
   "execution_count": 30,
   "metadata": {
    "collapsed": false
   },
   "outputs": [
    {
     "name": "stdout",
     "output_type": "stream",
     "text": [
      "Accuracy: 91.95%\n"
     ]
    }
   ],
   "source": [
    "predictions = [round(value) for value in train_preds]\n",
    "# evaluate predictions with accuracy as well\n",
    "accuracy = accuracy_score(labels, predictions)\n",
    "print(\"Accuracy: %.2f%%\" % (accuracy * 100.0))"
   ]
  },
  {
   "cell_type": "code",
   "execution_count": null,
   "metadata": {
    "collapsed": true
   },
   "outputs": [],
   "source": []
  }
 ],
 "metadata": {
  "anaconda-cloud": {},
  "kernelspec": {
   "display_name": "Python [default]",
   "language": "python",
   "name": "python3"
  },
  "language_info": {
   "codemirror_mode": {
    "name": "ipython",
    "version": 3
   },
   "file_extension": ".py",
   "mimetype": "text/x-python",
   "name": "python",
   "nbconvert_exporter": "python",
   "pygments_lexer": "ipython3",
   "version": "3.5.2"
  }
 },
 "nbformat": 4,
 "nbformat_minor": 1
}
