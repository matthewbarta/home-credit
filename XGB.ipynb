{
 "cells": [
  {
   "cell_type": "code",
   "execution_count": 1,
   "metadata": {
    "collapsed": false
   },
   "outputs": [],
   "source": [
    "# CELL 1: Imports for whole notebook\n",
    "import numpy as np\n",
    "import pandas as pd\n",
    "import s3fs\n",
    "\n",
    "# Suppress warnings \n",
    "import os\n",
    "\n",
    "# Suppress warnings \n",
    "import warnings\n",
    "warnings.filterwarnings('ignore')\n",
    "\n",
    "# Models, metrics, preprocessing, classifiers and stats \n",
    "import seaborn as sns \n",
    "%matplotlib inline\n",
    "import matplotlib.pyplot as plt\n",
    "import xgboost as xgb\n",
    "\n",
    "from sklearn.model_selection import train_test_split, GridSearchCV\n",
    "from sklearn.metrics import accuracy_score, confusion_matrix\n",
    "from sklearn.pipeline import Pipeline\n",
    "from sklearn.preprocessing import StandardScaler\n",
    "from sklearn.linear_model import LogisticRegression\n",
    "from sklearn.preprocessing import LabelEncoder\n",
    "from sklearn.ensemble import RandomForestClassifier\n",
    "import statsmodels.api as sm\n",
    "import statsmodels.formula.api as smf"
   ]
  },
  {
   "cell_type": "code",
   "execution_count": 2,
   "metadata": {
    "collapsed": true
   },
   "outputs": [],
   "source": [
    "# Cell 2: Function to aggregate numerical data correspoding grouped by 'group_var'\n",
    "# Use: Add new columns to training set from bureau, and bureau_balance.csv\n",
    "def agg_numeric(df, group_var, df_name):\n",
    "    # Drop columns that aren't being grouped\n",
    "    for col in df:\n",
    "        if col != group_var and 'SK_ID' in col:\n",
    "            df = df.drop(columns = col)\n",
    "            \n",
    "    group_ids = df[group_var]\n",
    "    numeric_df = df.select_dtypes('number')\n",
    "    numeric_df[group_var] = group_ids\n",
    "\n",
    "    # Group id and aggregate mean, max, min, count and sum\n",
    "    agg = numeric_df.groupby(group_var).agg(['count', 'mean', 'max', 'min', 'sum']).reset_index()\n",
    "\n",
    "    # Create new column names\n",
    "    columns = [group_var]\n",
    "\n",
    "    # Add new column names\n",
    "    for var in agg.columns.levels[0]:\n",
    "        if var != group_var:\n",
    "            for stat in agg.columns.levels[1][:-1]:\n",
    "                columns.append('%s_%s_%s' % (df_name, var, stat))\n",
    "\n",
    "    agg.columns = columns\n",
    "    return agg"
   ]
  },
  {
   "cell_type": "code",
   "execution_count": 3,
   "metadata": {
    "collapsed": true
   },
   "outputs": [],
   "source": [
    "# CELL 3: Count d  counts for categorial variable in groupvar\n",
    "# Used on bureau and bureau_balance.csv\n",
    "def count_categorical(df, group_var, df_name):\n",
    "    \n",
    "    categorical = pd.get_dummies(df.select_dtypes('object'))\n",
    "\n",
    "    # Put id on col\n",
    "    categorical[group_var] = df[group_var]\n",
    "\n",
    "    # Groupby, calculate the sum and mean\n",
    "    categorical = categorical.groupby(group_var).agg(['sum', 'mean'])\n",
    "    \n",
    "    column_names = []\n",
    "    \n",
    "    for var in categorical.columns.levels[0]:\n",
    "        for stat in ['count', 'count_norm']:\n",
    "            # New column names\n",
    "            column_names.append('%s_%s_%s' % (df_name, var, stat))\n",
    "    \n",
    "    categorical.columns = column_names\n",
    "    \n",
    "    return categorical\n",
    "\n"
   ]
  },
  {
   "cell_type": "code",
   "execution_count": 4,
   "metadata": {
    "collapsed": true
   },
   "outputs": [],
   "source": [
    "# Cell 4: Calculates counts of missing values\n",
    "def missing_values_table(df):\n",
    "        mis_val = df.isnull().sum()\n",
    "        \n",
    "        # Calculate percent\n",
    "        mis_val_percent = 100 * df.isnull().sum() / len(df)\n",
    "        \n",
    "        # table of missing values and percents\n",
    "        mis_val_table = pd.concat([mis_val, mis_val_percent], axis=1)\n",
    "        \n",
    "        # Rename columns\n",
    "        mis_val_table_ren_columns = mis_val_table.rename(\n",
    "        columns = {0 : 'Missing Values', 1 : '% of Total Values'})\n",
    "        #Sort descending\n",
    "        mis_val_table_ren_columns = mis_val_table_ren_columns[\n",
    "            mis_val_table_ren_columns.iloc[:,1] != 0].sort_values(\n",
    "        '% of Total Values', ascending=False).round(1)\n",
    "                \n",
    "        # Return the dataframe with missing information\n",
    "        return mis_val_table_ren_columns"
   ]
  },
  {
   "cell_type": "code",
   "execution_count": 5,
   "metadata": {
    "collapsed": false
   },
   "outputs": [],
   "source": [
    "# Cell 5: load files\n",
    "fs = s3fs.S3FileSystem(anon=False)\n",
    "\n",
    "with fs.open('home-credit-mb/application_train.csv') as f:\n",
    "    train = pd.read_csv(f)\n",
    "    \n",
    "with fs.open('home-credit-mb/bureau.csv') as f:\n",
    "    bureau = pd.read_csv(f)\n",
    "    \n",
    "with fs.open('home-credit-mb/bureau_balance.csv') as f:\n",
    "    bureau_balance = pd.read_csv(f)\n",
    "    \n",
    "with fs.open('home-credit-mb/POS_CASH_balance.csv') as f:\n",
    "    POS_CASH_balance = pd.read_csv(f)"
   ]
  },
  {
   "cell_type": "code",
   "execution_count": null,
   "metadata": {
    "collapsed": true
   },
   "outputs": [],
   "source": [
    "# 6) Run four below, get aggregations and categorical counts for bureau and bureau_balance"
   ]
  },
  {
   "cell_type": "code",
   "execution_count": 6,
   "metadata": {
    "collapsed": false
   },
   "outputs": [],
   "source": [
    "bureau_counts = count_categorical(bureau, group_var = 'SK_ID_CURR', df_name = 'bureau')"
   ]
  },
  {
   "cell_type": "code",
   "execution_count": 7,
   "metadata": {
    "collapsed": false
   },
   "outputs": [],
   "source": [
    "bureau_agg = agg_numeric(bureau.drop(columns = ['SK_ID_BUREAU']), group_var = 'SK_ID_CURR', df_name = 'bureau')"
   ]
  },
  {
   "cell_type": "code",
   "execution_count": 8,
   "metadata": {
    "collapsed": false
   },
   "outputs": [],
   "source": [
    "bureau_balance_counts = count_categorical(bureau_balance, group_var = 'SK_ID_BUREAU', df_name = 'bureau_balance')"
   ]
  },
  {
   "cell_type": "code",
   "execution_count": 9,
   "metadata": {
    "collapsed": false
   },
   "outputs": [],
   "source": [
    "bureau_balance_agg = agg_numeric(bureau_balance, group_var = 'SK_ID_BUREAU', df_name = 'bureau_balance')"
   ]
  },
  {
   "cell_type": "code",
   "execution_count": 10,
   "metadata": {
    "collapsed": true
   },
   "outputs": [],
   "source": [
    "# Cell 7) Creates data frame of loans stats for each client\n",
    "bureau_by_loan = bureau_balance_agg.merge(bureau_balance_counts, right_index = True, left_on = 'SK_ID_BUREAU', how = 'outer')\n",
    "\n",
    "# Include current SK_ID\n",
    "bureau_by_loan = bureau[['SK_ID_BUREAU', 'SK_ID_CURR']].merge(bureau_by_loan, on = 'SK_ID_BUREAU', how = 'left')\n",
    "\n",
    "# Aggregate for each client\n",
    "bureau_balance_by_client = agg_numeric(bureau_by_loan.drop(columns = ['SK_ID_BUREAU']), group_var = 'SK_ID_CURR', df_name = 'client')"
   ]
  },
  {
   "cell_type": "code",
   "execution_count": 11,
   "metadata": {
    "collapsed": false
   },
   "outputs": [],
   "source": [
    "# CELL 8)\n",
    "# Aggregate stats in POS_CASH_BALANCE for each client\n",
    "valid_IDs=train['SK_ID_CURR'].copy()\n",
    "filteredPos = POS_CASH_balance.loc[POS_CASH_balance['SK_ID_CURR'].isin(valid_IDs)].sort_values(by=['SK_ID_CURR'])\n",
    "POS_agg = agg_numeric(filteredPos, group_var = 'SK_ID_CURR', df_name = 'POS_CASH')"
   ]
  },
  {
   "cell_type": "code",
   "execution_count": 12,
   "metadata": {
    "collapsed": true
   },
   "outputs": [],
   "source": [
    "# CELL 9) merge new dataframes with train\n",
    "train = train.merge(bureau_counts, on = 'SK_ID_CURR', how = 'left')\n",
    "\n",
    "train = train.merge(bureau_agg, on = 'SK_ID_CURR', how = 'left')\n",
    "\n",
    "train = train.merge(bureau_balance_by_client, on = 'SK_ID_CURR', how = 'left')\n",
    "\n",
    "train = train.merge(POS_agg, on='SK_ID_CURR', how = 'left')"
   ]
  },
  {
   "cell_type": "code",
   "execution_count": 13,
   "metadata": {
    "collapsed": false
   },
   "outputs": [],
   "source": [
    "# CELL 10) List missing values over 90%\n",
    "missing_train = missing_values_table(train)\n",
    "missing_train_vars = list(missing_train.index[missing_train['% of Total Values'] > 90])"
   ]
  },
  {
   "cell_type": "code",
   "execution_count": 14,
   "metadata": {
    "collapsed": true
   },
   "outputs": [],
   "source": [
    "# CELL 11) Read in test data, merge same bureau data\n",
    "with fs.open('home-credit-mb/application_test.csv') as f:\n",
    "    test = pd.read_csv(f)\n",
    "test = test.merge(bureau_counts, on = 'SK_ID_CURR', how = 'left')\n",
    "test = test.merge(bureau_agg, on = 'SK_ID_CURR', how = 'left')\n",
    "test = test.merge(bureau_balance_by_client, on = 'SK_ID_CURR', how = 'left')\n",
    "test = test.merge(POS_agg, on='SK_ID_CURR', how = 'left')\n"
   ]
  },
  {
   "cell_type": "code",
   "execution_count": 15,
   "metadata": {
    "collapsed": true
   },
   "outputs": [],
   "source": [
    "# CELL 12) \n",
    "train_labels = train['TARGET']\n",
    "train, test = train.align(test, join = 'inner', axis = 1)\n",
    "train['TARGET'] = train_labels"
   ]
  },
  {
   "cell_type": "code",
   "execution_count": 16,
   "metadata": {
    "collapsed": false
   },
   "outputs": [],
   "source": [
    "# CELL 13) Missing over 90% in test\n",
    "missing_test = missing_values_table(test)\n",
    "missing_test_vars = list(missing_test.index[missing_test['% of Total Values'] > 90])"
   ]
  },
  {
   "cell_type": "code",
   "execution_count": 17,
   "metadata": {
    "collapsed": true
   },
   "outputs": [],
   "source": [
    "# CELL 14) Drop columns with too much missing data\n",
    "missing_columns = list(set(missing_test_vars + missing_train_vars))\n",
    "train = train.drop(columns = missing_columns)\n",
    "test = test.drop(columns = missing_columns)"
   ]
  },
  {
   "cell_type": "code",
   "execution_count": 18,
   "metadata": {
    "collapsed": true
   },
   "outputs": [],
   "source": [
    "# CELL 15) Calculate correlations\n",
    "corrs = train.corr()\n",
    "corrs = corrs.sort_values('TARGET', ascending = False)"
   ]
  },
  {
   "cell_type": "code",
   "execution_count": 20,
   "metadata": {
    "collapsed": true
   },
   "outputs": [],
   "source": [
    "# CELL 16) Get variables above threshold\n",
    "threshold = 0.8\n",
    "\n",
    "above_threshold_vars = {}\n",
    "\n",
    "# Record variables above threshold\n",
    "for col in corrs:\n",
    "    above_threshold_vars[col] = list(corrs.index[corrs[col] > threshold])"
   ]
  },
  {
   "cell_type": "code",
   "execution_count": 21,
   "metadata": {
    "collapsed": false
   },
   "outputs": [],
   "source": [
    "# CELL 17) Get columns to remove, too colinear\n",
    "cols_to_remove = []\n",
    "cols_seen = []\n",
    "cols_to_remove_pair = []\n",
    "\n",
    "\n",
    "for key, value in above_threshold_vars.items():\n",
    "    cols_seen.append(key)\n",
    "    for x in value:\n",
    "        if x == key:\n",
    "            next\n",
    "        else:\n",
    "            if x not in cols_seen:\n",
    "                cols_to_remove.append(x)\n",
    "                cols_to_remove_pair.append(key)\n",
    "            \n",
    "cols_to_remove = list(set(cols_to_remove))\n"
   ]
  },
  {
   "cell_type": "code",
   "execution_count": 22,
   "metadata": {
    "collapsed": false
   },
   "outputs": [
    {
     "name": "stdout",
     "output_type": "stream",
     "text": [
      "Training Corrs Removed Shape:  (307511, 204)\n",
      "Testing Corrs Removed Shape:  (48744, 203)\n"
     ]
    }
   ],
   "source": [
    "# CELL 18) Remove columns calculated above\n",
    "train_corrs_removed = train.drop(columns = cols_to_remove)\n",
    "test_corrs_removed = test.drop(columns = cols_to_remove)\n",
    "\n",
    "print('Training Corrs Removed Shape: ', train_corrs_removed.shape)\n",
    "print('Testing Corrs Removed Shape: ', test_corrs_removed.shape)"
   ]
  },
  {
   "cell_type": "code",
   "execution_count": 23,
   "metadata": {
    "collapsed": true
   },
   "outputs": [],
   "source": [
    "# CELL 19) Imports needed to model, classify, and compute metrics\n",
    "\n",
    "from sklearn.model_selection import KFold\n",
    "from sklearn.metrics import roc_auc_score\n",
    "from sklearn.preprocessing import LabelEncoder\n",
    "import xgboost as xgb\n",
    "import gc\n",
    "\n",
    "import matplotlib.pyplot as plt"
   ]
  },
  {
   "cell_type": "code",
   "execution_count": 24,
   "metadata": {
    "collapsed": true
   },
   "outputs": [],
   "source": [
    "# CELL 20) Set up dataframes to test\n",
    "test_xgb = test.copy()\n",
    "train_xgb = train.copy()\n",
    "\n",
    "train_ids = train_xgb['SK_ID_CURR']\n",
    "test_ids = test_xgb['SK_ID_CURR']\n",
    "\n",
    "# Training labels\n",
    "labels = train_xgb['TARGET']\n",
    "\n",
    "# Drops IDs and Targets\n",
    "train_xgb = train_xgb.drop(columns = ['SK_ID_CURR', 'TARGET'])\n",
    "test_xgb = test_xgb.drop(columns = ['SK_ID_CURR'])"
   ]
  },
  {
   "cell_type": "code",
   "execution_count": 26,
   "metadata": {
    "collapsed": true
   },
   "outputs": [],
   "source": [
    "# CELL 21) Encode, align and covert to numpy\n",
    "train_xgb = pd.get_dummies(train_xgb)\n",
    "test_xgb = pd.get_dummies(test_xgb)\n",
    "\n",
    "train_xgb, test_xgb = train_xgb.align(test_xgb, join = 'inner', axis = 1)\n",
    "\n",
    "train_xgb = np.array(train_xgb)\n",
    "test_xgb = np.array(test_xgb)"
   ]
  },
  {
   "cell_type": "code",
   "execution_count": 27,
   "metadata": {
    "collapsed": true
   },
   "outputs": [],
   "source": [
    "# CELL 22) Create numpy zeros, lists for testing\n",
    "test_predictions = np.zeros(test_xgb.shape[0])\n",
    "\n",
    "# Empty array for out of fold validation predictions\n",
    "out_of_fold = np.zeros(train_xgb.shape[0])\n",
    "\n",
    "# Lists for validation, training scores\n",
    "valid_scores = []\n",
    "train_scores = []"
   ]
  },
  {
   "cell_type": "code",
   "execution_count": 33,
   "metadata": {
    "collapsed": false
   },
   "outputs": [
    {
     "name": "stdout",
     "output_type": "stream",
     "text": [
      "[0]\tvalidation_0-auc:0.68074\tvalidation_1-auc:0.71977\n",
      "Multiple eval metrics have been passed: 'validation_1-auc' will be used for early stopping.\n",
      "\n",
      "Will train until validation_1-auc hasn't improved in 100 rounds.\n",
      "[1]\tvalidation_0-auc:0.69717\tvalidation_1-auc:0.75802\n",
      "[2]\tvalidation_0-auc:0.70158\tvalidation_1-auc:0.78701\n",
      "[3]\tvalidation_0-auc:0.71621\tvalidation_1-auc:0.81462\n",
      "[4]\tvalidation_0-auc:0.71770\tvalidation_1-auc:0.82408\n",
      "[5]\tvalidation_0-auc:0.72264\tvalidation_1-auc:0.83935\n",
      "[6]\tvalidation_0-auc:0.72497\tvalidation_1-auc:0.84653\n",
      "[7]\tvalidation_0-auc:0.72908\tvalidation_1-auc:0.85830\n",
      "[8]\tvalidation_0-auc:0.72691\tvalidation_1-auc:0.87088\n",
      "[9]\tvalidation_0-auc:0.72891\tvalidation_1-auc:0.87682\n",
      "[10]\tvalidation_0-auc:0.73052\tvalidation_1-auc:0.88378\n",
      "[11]\tvalidation_0-auc:0.73042\tvalidation_1-auc:0.88961\n",
      "[12]\tvalidation_0-auc:0.73229\tvalidation_1-auc:0.89719\n",
      "[13]\tvalidation_0-auc:0.73544\tvalidation_1-auc:0.90278\n",
      "[14]\tvalidation_0-auc:0.73604\tvalidation_1-auc:0.90872\n",
      "[15]\tvalidation_0-auc:0.73756\tvalidation_1-auc:0.91441\n",
      "[16]\tvalidation_0-auc:0.73869\tvalidation_1-auc:0.91812\n",
      "[17]\tvalidation_0-auc:0.73914\tvalidation_1-auc:0.92387\n",
      "[18]\tvalidation_0-auc:0.73966\tvalidation_1-auc:0.92896\n",
      "[19]\tvalidation_0-auc:0.74045\tvalidation_1-auc:0.93425\n",
      "[20]\tvalidation_0-auc:0.74111\tvalidation_1-auc:0.93961\n",
      "[21]\tvalidation_0-auc:0.74152\tvalidation_1-auc:0.94373\n",
      "[22]\tvalidation_0-auc:0.74220\tvalidation_1-auc:0.94848\n",
      "[23]\tvalidation_0-auc:0.74291\tvalidation_1-auc:0.95203\n",
      "[24]\tvalidation_0-auc:0.74323\tvalidation_1-auc:0.95532\n",
      "[25]\tvalidation_0-auc:0.74344\tvalidation_1-auc:0.95774\n",
      "[26]\tvalidation_0-auc:0.74346\tvalidation_1-auc:0.96025\n",
      "[27]\tvalidation_0-auc:0.74352\tvalidation_1-auc:0.96314\n",
      "[28]\tvalidation_0-auc:0.74426\tvalidation_1-auc:0.96522\n",
      "[29]\tvalidation_0-auc:0.74477\tvalidation_1-auc:0.96686\n",
      "[30]\tvalidation_0-auc:0.74518\tvalidation_1-auc:0.96869\n",
      "[31]\tvalidation_0-auc:0.74565\tvalidation_1-auc:0.97017\n",
      "[32]\tvalidation_0-auc:0.74669\tvalidation_1-auc:0.97201\n",
      "[33]\tvalidation_0-auc:0.74648\tvalidation_1-auc:0.97319\n",
      "[34]\tvalidation_0-auc:0.74611\tvalidation_1-auc:0.97447\n",
      "[35]\tvalidation_0-auc:0.74638\tvalidation_1-auc:0.97649\n",
      "[36]\tvalidation_0-auc:0.74678\tvalidation_1-auc:0.97692\n",
      "[37]\tvalidation_0-auc:0.74722\tvalidation_1-auc:0.97799\n",
      "[38]\tvalidation_0-auc:0.74754\tvalidation_1-auc:0.97852\n",
      "[39]\tvalidation_0-auc:0.74776\tvalidation_1-auc:0.97933\n",
      "[40]\tvalidation_0-auc:0.74794\tvalidation_1-auc:0.98017\n",
      "[41]\tvalidation_0-auc:0.74826\tvalidation_1-auc:0.98106\n",
      "[42]\tvalidation_0-auc:0.74848\tvalidation_1-auc:0.98186\n",
      "[43]\tvalidation_0-auc:0.74870\tvalidation_1-auc:0.98223\n",
      "[44]\tvalidation_0-auc:0.74865\tvalidation_1-auc:0.98282\n",
      "[45]\tvalidation_0-auc:0.74897\tvalidation_1-auc:0.98377\n",
      "[46]\tvalidation_0-auc:0.74890\tvalidation_1-auc:0.98424\n",
      "[47]\tvalidation_0-auc:0.74929\tvalidation_1-auc:0.98514\n",
      "[48]\tvalidation_0-auc:0.74910\tvalidation_1-auc:0.98610\n",
      "[49]\tvalidation_0-auc:0.74908\tvalidation_1-auc:0.98620\n",
      "[0]\tvalidation_0-auc:0.68096\tvalidation_1-auc:0.72164\n",
      "Multiple eval metrics have been passed: 'validation_1-auc' will be used for early stopping.\n",
      "\n",
      "Will train until validation_1-auc hasn't improved in 100 rounds.\n",
      "[1]\tvalidation_0-auc:0.69720\tvalidation_1-auc:0.76000\n",
      "[2]\tvalidation_0-auc:0.70334\tvalidation_1-auc:0.78732\n",
      "[3]\tvalidation_0-auc:0.71650\tvalidation_1-auc:0.81173\n",
      "[4]\tvalidation_0-auc:0.71687\tvalidation_1-auc:0.82412\n",
      "[5]\tvalidation_0-auc:0.72114\tvalidation_1-auc:0.83872\n",
      "[6]\tvalidation_0-auc:0.72240\tvalidation_1-auc:0.84656\n",
      "[7]\tvalidation_0-auc:0.72435\tvalidation_1-auc:0.85616\n",
      "[8]\tvalidation_0-auc:0.72152\tvalidation_1-auc:0.86757\n",
      "[9]\tvalidation_0-auc:0.72261\tvalidation_1-auc:0.87530\n",
      "[10]\tvalidation_0-auc:0.72275\tvalidation_1-auc:0.88299\n",
      "[11]\tvalidation_0-auc:0.72262\tvalidation_1-auc:0.89035\n",
      "[12]\tvalidation_0-auc:0.72562\tvalidation_1-auc:0.89892\n",
      "[13]\tvalidation_0-auc:0.72817\tvalidation_1-auc:0.90450\n",
      "[14]\tvalidation_0-auc:0.72877\tvalidation_1-auc:0.90995\n",
      "[15]\tvalidation_0-auc:0.73036\tvalidation_1-auc:0.91556\n",
      "[16]\tvalidation_0-auc:0.73140\tvalidation_1-auc:0.91975\n",
      "[17]\tvalidation_0-auc:0.73191\tvalidation_1-auc:0.92436\n",
      "[18]\tvalidation_0-auc:0.73232\tvalidation_1-auc:0.92946\n",
      "[19]\tvalidation_0-auc:0.73330\tvalidation_1-auc:0.93516\n",
      "[20]\tvalidation_0-auc:0.73413\tvalidation_1-auc:0.94085\n",
      "[21]\tvalidation_0-auc:0.73473\tvalidation_1-auc:0.94398\n",
      "[22]\tvalidation_0-auc:0.73569\tvalidation_1-auc:0.94832\n",
      "[23]\tvalidation_0-auc:0.73569\tvalidation_1-auc:0.95185\n",
      "[24]\tvalidation_0-auc:0.73588\tvalidation_1-auc:0.95508\n",
      "[25]\tvalidation_0-auc:0.73601\tvalidation_1-auc:0.95784\n",
      "[26]\tvalidation_0-auc:0.73619\tvalidation_1-auc:0.95984\n",
      "[27]\tvalidation_0-auc:0.73694\tvalidation_1-auc:0.96282\n",
      "[28]\tvalidation_0-auc:0.73724\tvalidation_1-auc:0.96574\n",
      "[29]\tvalidation_0-auc:0.73752\tvalidation_1-auc:0.96782\n",
      "[30]\tvalidation_0-auc:0.73797\tvalidation_1-auc:0.97010\n",
      "[31]\tvalidation_0-auc:0.73847\tvalidation_1-auc:0.97242\n",
      "[32]\tvalidation_0-auc:0.73883\tvalidation_1-auc:0.97427\n",
      "[33]\tvalidation_0-auc:0.73895\tvalidation_1-auc:0.97538\n",
      "[34]\tvalidation_0-auc:0.73948\tvalidation_1-auc:0.97632\n",
      "[35]\tvalidation_0-auc:0.73974\tvalidation_1-auc:0.97761\n",
      "[36]\tvalidation_0-auc:0.74009\tvalidation_1-auc:0.97832\n",
      "[37]\tvalidation_0-auc:0.74029\tvalidation_1-auc:0.97970\n",
      "[38]\tvalidation_0-auc:0.74040\tvalidation_1-auc:0.98025\n",
      "[39]\tvalidation_0-auc:0.74037\tvalidation_1-auc:0.98161\n",
      "[40]\tvalidation_0-auc:0.74082\tvalidation_1-auc:0.98195\n",
      "[41]\tvalidation_0-auc:0.74065\tvalidation_1-auc:0.98310\n",
      "[42]\tvalidation_0-auc:0.74069\tvalidation_1-auc:0.98360\n",
      "[43]\tvalidation_0-auc:0.74084\tvalidation_1-auc:0.98412\n",
      "[44]\tvalidation_0-auc:0.74096\tvalidation_1-auc:0.98460\n",
      "[45]\tvalidation_0-auc:0.74127\tvalidation_1-auc:0.98481\n",
      "[46]\tvalidation_0-auc:0.74135\tvalidation_1-auc:0.98517\n",
      "[47]\tvalidation_0-auc:0.74134\tvalidation_1-auc:0.98528\n",
      "[48]\tvalidation_0-auc:0.74115\tvalidation_1-auc:0.98570\n",
      "[49]\tvalidation_0-auc:0.74138\tvalidation_1-auc:0.98623\n",
      "[0]\tvalidation_0-auc:0.68144\tvalidation_1-auc:0.72171\n",
      "Multiple eval metrics have been passed: 'validation_1-auc' will be used for early stopping.\n",
      "\n",
      "Will train until validation_1-auc hasn't improved in 100 rounds.\n",
      "[1]\tvalidation_0-auc:0.70167\tvalidation_1-auc:0.75570\n",
      "[2]\tvalidation_0-auc:0.70333\tvalidation_1-auc:0.78434\n",
      "[3]\tvalidation_0-auc:0.71750\tvalidation_1-auc:0.81089\n",
      "[4]\tvalidation_0-auc:0.71870\tvalidation_1-auc:0.82095\n",
      "[5]\tvalidation_0-auc:0.72495\tvalidation_1-auc:0.83674\n",
      "[6]\tvalidation_0-auc:0.72631\tvalidation_1-auc:0.84424\n",
      "[7]\tvalidation_0-auc:0.73001\tvalidation_1-auc:0.85351\n",
      "[8]\tvalidation_0-auc:0.72850\tvalidation_1-auc:0.86460\n",
      "[9]\tvalidation_0-auc:0.73101\tvalidation_1-auc:0.87140\n",
      "[10]\tvalidation_0-auc:0.73043\tvalidation_1-auc:0.87857\n",
      "[11]\tvalidation_0-auc:0.72942\tvalidation_1-auc:0.88457\n",
      "[12]\tvalidation_0-auc:0.73169\tvalidation_1-auc:0.89302\n",
      "[13]\tvalidation_0-auc:0.73416\tvalidation_1-auc:0.89849\n",
      "[14]\tvalidation_0-auc:0.73553\tvalidation_1-auc:0.90369\n",
      "[15]\tvalidation_0-auc:0.73668\tvalidation_1-auc:0.91007\n",
      "[16]\tvalidation_0-auc:0.73750\tvalidation_1-auc:0.91492\n",
      "[17]\tvalidation_0-auc:0.73756\tvalidation_1-auc:0.92037\n",
      "[18]\tvalidation_0-auc:0.73840\tvalidation_1-auc:0.92701\n",
      "[19]\tvalidation_0-auc:0.73939\tvalidation_1-auc:0.93259\n",
      "[20]\tvalidation_0-auc:0.73980\tvalidation_1-auc:0.93815\n",
      "[21]\tvalidation_0-auc:0.73980\tvalidation_1-auc:0.94235\n",
      "[22]\tvalidation_0-auc:0.74078\tvalidation_1-auc:0.94682\n",
      "[23]\tvalidation_0-auc:0.74126\tvalidation_1-auc:0.95075\n",
      "[24]\tvalidation_0-auc:0.74110\tvalidation_1-auc:0.95462\n",
      "[25]\tvalidation_0-auc:0.74178\tvalidation_1-auc:0.95739\n",
      "[26]\tvalidation_0-auc:0.74218\tvalidation_1-auc:0.95892\n",
      "[27]\tvalidation_0-auc:0.74255\tvalidation_1-auc:0.96243\n",
      "[28]\tvalidation_0-auc:0.74279\tvalidation_1-auc:0.96448\n",
      "[29]\tvalidation_0-auc:0.74296\tvalidation_1-auc:0.96657\n",
      "[30]\tvalidation_0-auc:0.74339\tvalidation_1-auc:0.96959\n",
      "[31]\tvalidation_0-auc:0.74413\tvalidation_1-auc:0.97112\n",
      "[32]\tvalidation_0-auc:0.74484\tvalidation_1-auc:0.97308\n",
      "[33]\tvalidation_0-auc:0.74517\tvalidation_1-auc:0.97384\n",
      "[34]\tvalidation_0-auc:0.74531\tvalidation_1-auc:0.97520\n",
      "[35]\tvalidation_0-auc:0.74519\tvalidation_1-auc:0.97677\n",
      "[36]\tvalidation_0-auc:0.74552\tvalidation_1-auc:0.97758\n",
      "[37]\tvalidation_0-auc:0.74592\tvalidation_1-auc:0.97939\n",
      "[38]\tvalidation_0-auc:0.74619\tvalidation_1-auc:0.98019\n",
      "[39]\tvalidation_0-auc:0.74637\tvalidation_1-auc:0.98098\n",
      "[40]\tvalidation_0-auc:0.74695\tvalidation_1-auc:0.98163\n",
      "[41]\tvalidation_0-auc:0.74700\tvalidation_1-auc:0.98212\n",
      "[42]\tvalidation_0-auc:0.74705\tvalidation_1-auc:0.98328\n",
      "[43]\tvalidation_0-auc:0.74735\tvalidation_1-auc:0.98346\n",
      "[44]\tvalidation_0-auc:0.74726\tvalidation_1-auc:0.98440\n",
      "[45]\tvalidation_0-auc:0.74740\tvalidation_1-auc:0.98485\n",
      "[46]\tvalidation_0-auc:0.74726\tvalidation_1-auc:0.98552\n",
      "[47]\tvalidation_0-auc:0.74725\tvalidation_1-auc:0.98555\n",
      "[48]\tvalidation_0-auc:0.74718\tvalidation_1-auc:0.98593\n",
      "[49]\tvalidation_0-auc:0.74719\tvalidation_1-auc:0.98607\n",
      "CPU times: user 16min 34s, sys: 7.36 s, total: 16min 41s\n",
      "Wall time: 16min 40s\n"
     ]
    }
   ],
   "source": [
    "# CELL 23) Creates models, trains and calculates respective ROCS\n",
    "%%time\n",
    "n_folds = 3\n",
    "k_fold = KFold(n_splits = n_folds, shuffle = False, random_state = 50)\n",
    "\n",
    "for train_indices, valid_indices in k_fold.split(train_xgb):\n",
    "    \n",
    "    # Training data for fold\n",
    "    train_features, train_labels = train_xgb[train_indices], labels[train_indices]\n",
    "    # Validation data for fold\n",
    "    valid_features, valid_labels = train_xgb[valid_indices], labels[valid_indices]\n",
    "    \n",
    "    \n",
    "    # Create model\n",
    "    model = xgb.XGBClassifier(objective ='binary:logistic', colsample_bytree = 0.5, learning_rate = 0.15,\n",
    "            max_depth = 12, alpha = 10, n_estimators = 50)\n",
    "    \n",
    "    # Train\n",
    "    model.fit(train_features, train_labels, eval_metric = 'auc',\n",
    "              eval_set = [(valid_features, valid_labels), (train_features, train_labels)],\n",
    "              early_stopping_rounds = 100, verbose = True)\n",
    "    \n",
    "    # Out of fold predictions\n",
    "    out_of_fold[valid_indices] = model.predict_proba(valid_features)[:, 1]\n",
    "    \n",
    "    # Clean memory\n",
    "    gc.enable()\n",
    "    del model, train_features, valid_features\n",
    "    gc.collect()"
   ]
  },
  {
   "cell_type": "code",
   "execution_count": 34,
   "metadata": {
    "collapsed": false
   },
   "outputs": [
    {
     "name": "stdout",
     "output_type": "stream",
     "text": [
      "ROC AUC Score on the test dataset 0.7458579405576911\n"
     ]
    }
   ],
   "source": [
    "# CELL 24) Prints final ROC\n",
    "from sklearn.metrics import roc_auc_score, roc_curve, auc \n",
    "\n",
    "#Calculate AUC:\n",
    "print ('ROC AUC Score on the test dataset', roc_auc_score(labels, out_of_fold))"
   ]
  },
  {
   "cell_type": "code",
   "execution_count": 35,
   "metadata": {
    "collapsed": false
   },
   "outputs": [
    {
     "data": {
      "text/plain": [
       "<matplotlib.text.Text at 0x7f7f55ff7748>"
      ]
     },
     "execution_count": 35,
     "metadata": {},
     "output_type": "execute_result"
    },
    {
     "data": {
      "image/png": "[encoded data removed]",
      "text/plain": [
       "<matplotlib.figure.Figure at 0x7f7f55fab5f8>"
      ]
     },
     "metadata": {},
     "output_type": "display_data"
    }
   ],
   "source": [
    "# CELL 25) Graphs ROC\n",
    "fpr,tpr, thresholds= roc_curve(labels, out_of_fold) \n",
    "roc_auc=auc(fpr,tpr)\n",
    "\n",
    "\n",
    "#Visual :https://www.kaggle.com/jomaxx/area-under-the-roc-curve-explained \n",
    "#fig, axs = plt.subplots(1, 2, figsize = (16,8))\n",
    "\n",
    "#Plot ROC \n",
    "plt.plot(fpr, tpr, lw=1, label='(AUC = %0.2f)' % (roc_auc))\n",
    "\n",
    "plt.title('XGBoost Classifier Receiver Operating Characteristic ')\n",
    "plt.legend(loc=\"lower right\")\n",
    "plt.xlim([-0.05, 1.05])\n",
    "plt.ylim([-0.05, 1.05])\n",
    "plt.xlabel('False Positive Rate')\n",
    "plt.ylabel('True Positive Rate')"
   ]
  },
  {
   "cell_type": "code",
   "execution_count": null,
   "metadata": {
    "collapsed": true
   },
   "outputs": [],
   "source": []
  }
 ],
 "metadata": {
  "anaconda-cloud": {},
  "kernelspec": {
   "display_name": "Python [default]",
   "language": "python",
   "name": "python3"
  },
  "language_info": {
   "codemirror_mode": {
    "name": "ipython",
    "version": 3
   },
   "file_extension": ".py",
   "mimetype": "text/x-python",
   "name": "python",
   "nbconvert_exporter": "python",
   "pygments_lexer": "ipython3",
   "version": "3.5.2"
  }
 },
 "nbformat": 4,
 "nbformat_minor": 1
}
